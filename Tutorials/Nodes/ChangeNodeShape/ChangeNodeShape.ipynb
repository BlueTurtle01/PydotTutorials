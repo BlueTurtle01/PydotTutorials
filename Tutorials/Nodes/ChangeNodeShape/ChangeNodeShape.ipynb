{
 "cells": [
  {
   "cell_type": "markdown",
   "metadata": {
    "collapsed": true,
    "pycharm": {
     "name": "#%% md\n"
    }
   },
   "source": [
    "# Change Node Shape"
   ]
  },
  {
   "cell_type": "code",
   "source": [
    "import pydot\n",
    "\n",
    "# Create the graph\n",
    "graph = pydot.Dot(\"my_graph\", graph_type=\"graph\", overlap=False, splines='true')"
   ],
   "metadata": {
    "collapsed": false,
    "pycharm": {
     "name": "#%%\n"
    }
   },
   "execution_count": 1,
   "outputs": []
  },
  {
   "cell_type": "markdown",
   "source": [
    "Use the <code>shape</code> argument. Some possible shapes are; 'rectangle', 'circle', 'triangle', 'star'.\n",
    "More Shapes can be found at: https://graphviz.org/doc/info/shapes.html. Default value: 'rectangle'."
   ],
   "metadata": {
    "collapsed": false
   }
  },
  {
   "cell_type": "code",
   "execution_count": 2,
   "outputs": [],
   "source": [
    "graph.add_node(pydot.Node(\"Node 1\", shape='star'))\n",
    "graph.add_node(pydot.Node(\"Node 2\"))\n",
    "\n",
    "# Add edge\n",
    "graph.add_edge(pydot.Edge(\"Node 1\", \"Node 2\"))\n",
    "\n",
    "# Save the output\n",
    "graph.write_png(\"ChangeNodeShape.png\")"
   ],
   "metadata": {
    "collapsed": false,
    "pycharm": {
     "name": "#%%\n"
    }
   }
  }
 ],
 "metadata": {
  "kernelspec": {
   "display_name": "Python 3",
   "language": "python",
   "name": "python3"
  },
  "language_info": {
   "codemirror_mode": {
    "name": "ipython",
    "version": 2
   },
   "file_extension": ".py",
   "mimetype": "text/x-python",
   "name": "python",
   "nbconvert_exporter": "python",
   "pygments_lexer": "ipython2",
   "version": "2.7.6"
  }
 },
 "nbformat": 4,
 "nbformat_minor": 0
}